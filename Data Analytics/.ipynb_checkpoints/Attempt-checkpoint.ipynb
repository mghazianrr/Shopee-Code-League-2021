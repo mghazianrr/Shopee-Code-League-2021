{
 "cells": [
  {
   "cell_type": "code",
   "execution_count": 2,
   "metadata": {},
   "outputs": [],
   "source": [
    "import pandas as pd"
   ]
  },
  {
   "cell_type": "code",
   "execution_count": 62,
   "metadata": {},
   "outputs": [],
   "source": [
    "df = pd.read_json('contacts.json')"
   ]
  },
  {
   "cell_type": "code",
   "execution_count": 81,
   "metadata": {},
   "outputs": [
    {
     "data": {
      "text/html": [
       "<div>\n",
       "<style scoped>\n",
       "    .dataframe tbody tr th:only-of-type {\n",
       "        vertical-align: middle;\n",
       "    }\n",
       "\n",
       "    .dataframe tbody tr th {\n",
       "        vertical-align: top;\n",
       "    }\n",
       "\n",
       "    .dataframe thead th {\n",
       "        text-align: right;\n",
       "    }\n",
       "</style>\n",
       "<table border=\"1\" class=\"dataframe\">\n",
       "  <thead>\n",
       "    <tr style=\"text-align: right;\">\n",
       "      <th></th>\n",
       "      <th>Id</th>\n",
       "      <th>Email</th>\n",
       "      <th>Phone</th>\n",
       "      <th>Contacts</th>\n",
       "      <th>OrderId</th>\n",
       "    </tr>\n",
       "  </thead>\n",
       "  <tbody>\n",
       "    <tr>\n",
       "      <td>0</td>\n",
       "      <td>0</td>\n",
       "      <td>gkzAbIy@qq.com</td>\n",
       "      <td></td>\n",
       "      <td>1</td>\n",
       "      <td></td>\n",
       "    </tr>\n",
       "    <tr>\n",
       "      <td>1</td>\n",
       "      <td>1</td>\n",
       "      <td></td>\n",
       "      <td>329442681752</td>\n",
       "      <td>4</td>\n",
       "      <td>vDDJJcxfLtSfkooPhbYnJdxov</td>\n",
       "    </tr>\n",
       "    <tr>\n",
       "      <td>2</td>\n",
       "      <td>2</td>\n",
       "      <td></td>\n",
       "      <td>9125983679</td>\n",
       "      <td>0</td>\n",
       "      <td></td>\n",
       "    </tr>\n",
       "    <tr>\n",
       "      <td>3</td>\n",
       "      <td>3</td>\n",
       "      <td>mdllpYmE@gmail.com</td>\n",
       "      <td></td>\n",
       "      <td>0</td>\n",
       "      <td>bHquEnCbbsGLqllwryxPsNOxa</td>\n",
       "    </tr>\n",
       "    <tr>\n",
       "      <td>4</td>\n",
       "      <td>4</td>\n",
       "      <td></td>\n",
       "      <td>300364407</td>\n",
       "      <td>2</td>\n",
       "      <td></td>\n",
       "    </tr>\n",
       "    <tr>\n",
       "      <td>5</td>\n",
       "      <td>5</td>\n",
       "      <td></td>\n",
       "      <td>840113148</td>\n",
       "      <td>0</td>\n",
       "      <td></td>\n",
       "    </tr>\n",
       "    <tr>\n",
       "      <td>6</td>\n",
       "      <td>6</td>\n",
       "      <td>hESiBgYTxMnj@hotmail.com</td>\n",
       "      <td></td>\n",
       "      <td>4</td>\n",
       "      <td></td>\n",
       "    </tr>\n",
       "    <tr>\n",
       "      <td>7</td>\n",
       "      <td>7</td>\n",
       "      <td>hqyunTiaXfIjhO@yahoo.com</td>\n",
       "      <td></td>\n",
       "      <td>1</td>\n",
       "      <td>vxjYZtMUvNhtEBDruzQfjpsmX</td>\n",
       "    </tr>\n",
       "    <tr>\n",
       "      <td>8</td>\n",
       "      <td>8</td>\n",
       "      <td>XGUjcSiDpFKWEUCs@qq.com</td>\n",
       "      <td>223604620644</td>\n",
       "      <td>2</td>\n",
       "      <td></td>\n",
       "    </tr>\n",
       "    <tr>\n",
       "      <td>9</td>\n",
       "      <td>9</td>\n",
       "      <td>osIIQgAiZX@hotmail.com</td>\n",
       "      <td></td>\n",
       "      <td>0</td>\n",
       "      <td>IqewrMXVTJqSsVklWFfOpdRNI</td>\n",
       "    </tr>\n",
       "    <tr>\n",
       "      <td>10</td>\n",
       "      <td>10</td>\n",
       "      <td></td>\n",
       "      <td>918973512631</td>\n",
       "      <td>3</td>\n",
       "      <td>OHRFAXqbAzyxljoUDaOErwtrg</td>\n",
       "    </tr>\n",
       "    <tr>\n",
       "      <td>11</td>\n",
       "      <td>11</td>\n",
       "      <td>QRamvop@qq.com</td>\n",
       "      <td></td>\n",
       "      <td>0</td>\n",
       "      <td></td>\n",
       "    </tr>\n",
       "    <tr>\n",
       "      <td>12</td>\n",
       "      <td>12</td>\n",
       "      <td>QexYMLXc@qq.com</td>\n",
       "      <td></td>\n",
       "      <td>2</td>\n",
       "      <td></td>\n",
       "    </tr>\n",
       "    <tr>\n",
       "      <td>13</td>\n",
       "      <td>13</td>\n",
       "      <td>YsKhkKGJoQSNniHcr@yahoo.com</td>\n",
       "      <td>562300766</td>\n",
       "      <td>1</td>\n",
       "      <td>IqewrMXVTJqSsVklWFfOpdRNI</td>\n",
       "    </tr>\n",
       "    <tr>\n",
       "      <td>14</td>\n",
       "      <td>14</td>\n",
       "      <td></td>\n",
       "      <td>17423803380</td>\n",
       "      <td>4</td>\n",
       "      <td></td>\n",
       "    </tr>\n",
       "  </tbody>\n",
       "</table>\n",
       "</div>"
      ],
      "text/plain": [
       "    Id                        Email         Phone  Contacts  \\\n",
       "0    0               gkzAbIy@qq.com                       1   \n",
       "1    1                               329442681752         4   \n",
       "2    2                                 9125983679         0   \n",
       "3    3           mdllpYmE@gmail.com                       0   \n",
       "4    4                                  300364407         2   \n",
       "5    5                                  840113148         0   \n",
       "6    6     hESiBgYTxMnj@hotmail.com                       4   \n",
       "7    7     hqyunTiaXfIjhO@yahoo.com                       1   \n",
       "8    8      XGUjcSiDpFKWEUCs@qq.com  223604620644         2   \n",
       "9    9       osIIQgAiZX@hotmail.com                       0   \n",
       "10  10                               918973512631         3   \n",
       "11  11               QRamvop@qq.com                       0   \n",
       "12  12              QexYMLXc@qq.com                       2   \n",
       "13  13  YsKhkKGJoQSNniHcr@yahoo.com     562300766         1   \n",
       "14  14                                17423803380         4   \n",
       "\n",
       "                      OrderId  \n",
       "0                              \n",
       "1   vDDJJcxfLtSfkooPhbYnJdxov  \n",
       "2                              \n",
       "3   bHquEnCbbsGLqllwryxPsNOxa  \n",
       "4                              \n",
       "5                              \n",
       "6                              \n",
       "7   vxjYZtMUvNhtEBDruzQfjpsmX  \n",
       "8                              \n",
       "9   IqewrMXVTJqSsVklWFfOpdRNI  \n",
       "10  OHRFAXqbAzyxljoUDaOErwtrg  \n",
       "11                             \n",
       "12                             \n",
       "13  IqewrMXVTJqSsVklWFfOpdRNI  \n",
       "14                             "
      ]
     },
     "execution_count": 81,
     "metadata": {},
     "output_type": "execute_result"
    }
   ],
   "source": [
    "df.head(15)"
   ]
  },
  {
   "cell_type": "code",
   "execution_count": 9,
   "metadata": {},
   "outputs": [
    {
     "data": {
      "text/plain": [
       "(500000, 5)"
      ]
     },
     "execution_count": 9,
     "metadata": {},
     "output_type": "execute_result"
    }
   ],
   "source": [
    "df.shape"
   ]
  },
  {
   "cell_type": "code",
   "execution_count": 27,
   "metadata": {},
   "outputs": [
    {
     "name": "stdout",
     "output_type": "stream",
     "text": [
      "151394\n"
     ]
    }
   ],
   "source": [
    "#Blank email check\n",
    "blank = 0\n",
    "for i in range(500000):\n",
    "    if df.loc[i, 'Email'] == \"\":\n",
    "        blank += 1\n",
    "print(blank)"
   ]
  },
  {
   "cell_type": "code",
   "execution_count": 26,
   "metadata": {},
   "outputs": [
    {
     "name": "stdout",
     "output_type": "stream",
     "text": [
      "254919\n"
     ]
    }
   ],
   "source": [
    "#Blank phone check\n",
    "blank = 0\n",
    "for i in range(500000):\n",
    "    if df.loc[i, 'Phone'] == \"\":\n",
    "        blank += 1\n",
    "print(blank)"
   ]
  },
  {
   "cell_type": "code",
   "execution_count": 25,
   "metadata": {},
   "outputs": [
    {
     "name": "stdout",
     "output_type": "stream",
     "text": [
      "256456\n"
     ]
    }
   ],
   "source": [
    "#OrderId phone check\n",
    "blank = 0\n",
    "for i in range(500000):\n",
    "    if df.loc[i, 'OrderId'] == \"\":\n",
    "        blank += 1\n",
    "print(blank)"
   ]
  },
  {
   "cell_type": "code",
   "execution_count": 31,
   "metadata": {},
   "outputs": [
    {
     "name": "stdout",
     "output_type": "stream",
     "text": [
      "Unique emails: 249157, Unique phones: 190678, Unique ids: 189303\n"
     ]
    }
   ],
   "source": [
    "u_emails = df.Email.unique()\n",
    "u_phones = df.Phone.unique()\n",
    "u_ids = df.OrderId.unique()\n",
    "print('Unique emails: '+ str(len(u_emails)) + ', Unique phones: ' + str(len(u_phones)) + ', Unique ids: ' + str(len(u_ids)))"
   ]
  },
  {
   "cell_type": "code",
   "execution_count": 76,
   "metadata": {},
   "outputs": [],
   "source": [
    "df = df.loc[:15]\n",
    "df_s = df['Id']\n",
    "#df_s['ticket_trace/contact'] = 1\n",
    "#df_s.head()"
   ]
  },
  {
   "cell_type": "code",
   "execution_count": 85,
   "metadata": {},
   "outputs": [],
   "source": [
    "kabeh = []\n",
    "for i in range(len(df['Id'])):\n",
    "    tt = []\n",
    "    ttc = []\n",
    "    c = 0\n",
    "    for j in range(len(df['Id'])):\n",
    "        if df.loc[i, 'Id'] == df.loc[j, 'Id']:\n",
    "            tt.append(str(df.loc[j, 'Id']))\n",
    "            c += df.loc[i, 'Contacts']\n",
    "            continue\n",
    "        elif df.loc[i, 'Email'] == '' or df.loc[i, 'Phone'] == '' or df.loc[i, 'OrderId'] == '':\n",
    "            continue\n",
    "        elif df.loc[i, 'Email'] == df.loc[j, 'Email'] or df.loc[i, 'Phone'] == df.loc[j, 'Phone'] or df.loc[i, 'OrderId'] == df.loc[j, 'OrderId']:\n",
    "            tt.append(str(df.loc[j, 'Id']))\n",
    "            c += df.loc[i, 'Contacts']\n",
    "#    if c == 0:\n",
    "#        tt = str(i)\n",
    "#        c = df.loc[i, 'Contacts']\n",
    "    ttc = '-'.join(tt) + ', '+ str(c)\n",
    "    kabeh.append(ttc)"
   ]
  },
  {
   "cell_type": "code",
   "execution_count": 86,
   "metadata": {},
   "outputs": [
    {
     "data": {
      "text/plain": [
       "['0, 1',\n",
       " '1, 4',\n",
       " '2, 0',\n",
       " '3, 0',\n",
       " '4, 2',\n",
       " '5, 0',\n",
       " '6, 4',\n",
       " '7, 1',\n",
       " '8, 2',\n",
       " '9, 0',\n",
       " '10, 3',\n",
       " '11, 0',\n",
       " '12, 2',\n",
       " '9-13, 2',\n",
       " '14, 4',\n",
       " '15, 4']"
      ]
     },
     "execution_count": 86,
     "metadata": {},
     "output_type": "execute_result"
    }
   ],
   "source": [
    "kabeh"
   ]
  },
  {
   "cell_type": "code",
   "execution_count": null,
   "metadata": {},
   "outputs": [],
   "source": [
    "df_s[:, 'ticket_trace/contact'] = kabeh\n",
    "df_s.head()"
   ]
  },
  {
   "cell_type": "code",
   "execution_count": 33,
   "metadata": {},
   "outputs": [
    {
     "data": {
      "text/plain": [
       "'[1, 2, 3, 4]'"
      ]
     },
     "execution_count": 33,
     "metadata": {},
     "output_type": "execute_result"
    }
   ],
   "source": [
    "a = [1,2,3,4]\n",
    "str(a)"
   ]
  },
  {
   "cell_type": "code",
   "execution_count": 84,
   "metadata": {},
   "outputs": [
    {
     "data": {
      "text/plain": [
       "True"
      ]
     },
     "execution_count": 84,
     "metadata": {},
     "output_type": "execute_result"
    }
   ],
   "source": []
  },
  {
   "cell_type": "code",
   "execution_count": null,
   "metadata": {},
   "outputs": [],
   "source": []
  }
 ],
 "metadata": {
  "kernelspec": {
   "display_name": "Python 3",
   "language": "python",
   "name": "python3"
  },
  "language_info": {
   "codemirror_mode": {
    "name": "ipython",
    "version": 3
   },
   "file_extension": ".py",
   "mimetype": "text/x-python",
   "name": "python",
   "nbconvert_exporter": "python",
   "pygments_lexer": "ipython3",
   "version": "3.7.4"
  }
 },
 "nbformat": 4,
 "nbformat_minor": 4
}
